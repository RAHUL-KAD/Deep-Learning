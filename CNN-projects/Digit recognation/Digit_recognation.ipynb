{
  "nbformat": 4,
  "nbformat_minor": 0,
  "metadata": {
    "colab": {
      "name": "Digit_recognation.ipynb",
      "provenance": []
    },
    "kernelspec": {
      "name": "python3",
      "display_name": "Python 3"
    }
  },
  "cells": [
    {
      "cell_type": "markdown",
      "metadata": {
        "id": "yuv4DYR6lESA"
      },
      "source": [
        "In this notebook we will discuss about simple neural network. We will look at Digit recognaion. First we will try without hidden layers and then we will try with hidden layers. \n",
        "\n",
        "Homework:\n",
        "1. Change optimizer, loss function, and activation function."
      ]
    },
    {
      "cell_type": "markdown",
      "metadata": {
        "id": "TJuL4aQKlzNr"
      },
      "source": [
        "#### Importing the libraries"
      ]
    },
    {
      "cell_type": "code",
      "metadata": {
        "id": "nzV0s-8lk3B1"
      },
      "source": [
        "import tensorflow as tf\n",
        "from tensorflow import keras\n",
        "import matplotlib.pyplot as plt\n",
        "import numpy as np"
      ],
      "execution_count": null,
      "outputs": []
    },
    {
      "cell_type": "markdown",
      "metadata": {
        "id": "ZI-VobV4mXHD"
      },
      "source": [
        "#### Loading the dataset from keras library"
      ]
    },
    {
      "cell_type": "code",
      "metadata": {
        "id": "q-g68WPHmT_g"
      },
      "source": [
        "(X_train, y_train), (X_test, y_test) = keras.datasets.mnist.load_data()"
      ],
      "execution_count": null,
      "outputs": []
    },
    {
      "cell_type": "code",
      "metadata": {
        "colab": {
          "base_uri": "https://localhost:8080/"
        },
        "id": "hId0twScmsq2",
        "outputId": "082d447d-addc-4ac8-c6b7-69c970eaccc2"
      },
      "source": [
        "len(X_train)"
      ],
      "execution_count": null,
      "outputs": [
        {
          "output_type": "execute_result",
          "data": {
            "text/plain": [
              "60000"
            ]
          },
          "metadata": {
            "tags": []
          },
          "execution_count": 6
        }
      ]
    },
    {
      "cell_type": "code",
      "metadata": {
        "colab": {
          "base_uri": "https://localhost:8080/"
        },
        "id": "m7H6b_jGmyrl",
        "outputId": "713be7b9-839a-4a44-9a9e-9d797e5b37cb"
      },
      "source": [
        "X_train[0].shape[0]"
      ],
      "execution_count": null,
      "outputs": [
        {
          "output_type": "execute_result",
          "data": {
            "text/plain": [
              "28"
            ]
          },
          "metadata": {
            "tags": []
          },
          "execution_count": 7
        }
      ]
    },
    {
      "cell_type": "markdown",
      "metadata": {
        "id": "Elc6_D0hObVg"
      },
      "source": [
        "In the below cell I performed scaling because it is the technique that helps to improve the accuracy of the matrix."
      ]
    },
    {
      "cell_type": "code",
      "metadata": {
        "id": "vth3_O_Tm7I8"
      },
      "source": [
        "X_train = X_train / 255\n",
        "X_test = X_test / 255"
      ],
      "execution_count": null,
      "outputs": []
    },
    {
      "cell_type": "markdown",
      "metadata": {
        "id": "SAx7POkXnS4r"
      },
      "source": [
        "To visualize the data we will use matplot"
      ]
    },
    {
      "cell_type": "code",
      "metadata": {
        "colab": {
          "base_uri": "https://localhost:8080/",
          "height": 293
        },
        "id": "yNDZKyU1nI1e",
        "outputId": "785a219f-76c4-4460-e5c8-fbcf1448b911"
      },
      "source": [
        "plt.matshow(X_train[10000])"
      ],
      "execution_count": null,
      "outputs": [
        {
          "output_type": "execute_result",
          "data": {
            "text/plain": [
              "<matplotlib.image.AxesImage at 0x7f1e6e771750>"
            ]
          },
          "metadata": {
            "tags": []
          },
          "execution_count": 9
        },
        {
          "output_type": "display_data",
          "data": {
            "image/png": "[encoded data removed]",
            "text/plain": [
              "<Figure size 288x288 with 1 Axes>"
            ]
          },
          "metadata": {
            "tags": [],
            "needs_background": "light"
          }
        }
      ]
    },
    {
      "cell_type": "code",
      "metadata": {
        "colab": {
          "base_uri": "https://localhost:8080/"
        },
        "id": "qPZKRYMxnf1J",
        "outputId": "ccfa3e19-4e64-40ff-8472-b6a39a8f6170"
      },
      "source": [
        "y_train[10000]"
      ],
      "execution_count": null,
      "outputs": [
        {
          "output_type": "execute_result",
          "data": {
            "text/plain": [
              "3"
            ]
          },
          "metadata": {
            "tags": []
          },
          "execution_count": 10
        }
      ]
    },
    {
      "cell_type": "markdown",
      "metadata": {
        "id": "O1uIFrT0nup4"
      },
      "source": [
        "Our X_train and X_test datset are 2D data. So we want to covert it into the vector of length 28*28 so we need to flatten our dataset"
      ]
    },
    {
      "cell_type": "code",
      "metadata": {
        "id": "q3tiB_yunqUv"
      },
      "source": [
        "X_train_flattened = X_train.reshape(len(X_train), 28 * 28)\n",
        "X_test_flattened = X_test.reshape(len(X_test), 28 * 28)"
      ],
      "execution_count": null,
      "outputs": []
    },
    {
      "cell_type": "code",
      "metadata": {
        "colab": {
          "base_uri": "https://localhost:8080/"
        },
        "id": "FLZr4kZrofyy",
        "outputId": "c9098c4e-3332-4aed-c885-eb7516f7edb6"
      },
      "source": [
        "X_train_flattened.shape"
      ],
      "execution_count": null,
      "outputs": [
        {
          "output_type": "execute_result",
          "data": {
            "text/plain": [
              "(60000, 784)"
            ]
          },
          "metadata": {
            "tags": []
          },
          "execution_count": 12
        }
      ]
    },
    {
      "cell_type": "code",
      "metadata": {
        "id": "vZ3ZzLW7opKk"
      },
      "source": [
        "X_train_flattened[0]"
      ],
      "execution_count": null,
      "outputs": []
    },
    {
      "cell_type": "markdown",
      "metadata": {
        "id": "HHPLiC6hpWGH"
      },
      "source": [
        "#### Neural network"
      ]
    },
    {
      "cell_type": "markdown",
      "metadata": {
        "id": "aD38UMWEpZrg"
      },
      "source": [
        "This is simple neural network without hidden layers."
      ]
    },
    {
      "cell_type": "code",
      "metadata": {
        "colab": {
          "base_uri": "https://localhost:8080/"
        },
        "id": "d8E91UmMo1C3",
        "outputId": "2c50e76f-368a-44ae-b298-266cf2a4060f"
      },
      "source": [
        "model = keras.Sequential([\n",
        "                  keras.layers.Dense(10, input_shape = (784, ), activation='sigmoid')\n",
        "])\n",
        "\n",
        "# now we need to compile it\n",
        "model.compile(optimizer = 'adam',\n",
        "              loss = 'sparse_categorical_crossentropy',\n",
        "              metrics = ['accuracy'])\n",
        "model.fit(X_train_flattened, y_train, epochs = 10)"
      ],
      "execution_count": null,
      "outputs": [
        {
          "output_type": "stream",
          "text": [
            "Epoch 1/10\n",
            "1875/1875 [==============================] - 2s 1ms/step - loss: 0.7331 - accuracy: 0.8063\n",
            "Epoch 2/10\n",
            "1875/1875 [==============================] - 2s 1ms/step - loss: 0.3084 - accuracy: 0.9136\n",
            "Epoch 3/10\n",
            "1875/1875 [==============================] - 2s 1ms/step - loss: 0.2898 - accuracy: 0.9203\n",
            "Epoch 4/10\n",
            "1875/1875 [==============================] - 2s 1ms/step - loss: 0.2700 - accuracy: 0.9243\n",
            "Epoch 5/10\n",
            "1875/1875 [==============================] - 2s 1ms/step - loss: 0.2651 - accuracy: 0.9258\n",
            "Epoch 6/10\n",
            "1875/1875 [==============================] - 2s 1ms/step - loss: 0.2609 - accuracy: 0.9265\n",
            "Epoch 7/10\n",
            "1875/1875 [==============================] - 2s 1ms/step - loss: 0.2533 - accuracy: 0.9300\n",
            "Epoch 8/10\n",
            "1875/1875 [==============================] - 2s 1ms/step - loss: 0.2477 - accuracy: 0.9308\n",
            "Epoch 9/10\n",
            "1875/1875 [==============================] - 2s 1ms/step - loss: 0.2529 - accuracy: 0.9297\n",
            "Epoch 10/10\n",
            "1875/1875 [==============================] - 2s 1ms/step - loss: 0.2532 - accuracy: 0.9304\n"
          ],
          "name": "stdout"
        },
        {
          "output_type": "execute_result",
          "data": {
            "text/plain": [
              "<tensorflow.python.keras.callbacks.History at 0x7f1e6effd910>"
            ]
          },
          "metadata": {
            "tags": []
          },
          "execution_count": 14
        }
      ]
    },
    {
      "cell_type": "markdown",
      "metadata": {
        "id": "SSl1zPJaPZKu"
      },
      "source": [
        "Now evaluating the model on the test dataset"
      ]
    },
    {
      "cell_type": "code",
      "metadata": {
        "id": "MDFDPLDRrSYl",
        "colab": {
          "base_uri": "https://localhost:8080/"
        },
        "outputId": "f0354ab1-b508-4392-8023-4af7bcd73c3b"
      },
      "source": [
        "model.evaluate(X_test_flattened, y_test)"
      ],
      "execution_count": null,
      "outputs": [
        {
          "output_type": "stream",
          "text": [
            "313/313 [==============================] - 0s 1ms/step - loss: 0.2634 - accuracy: 0.9273\n"
          ],
          "name": "stdout"
        },
        {
          "output_type": "execute_result",
          "data": {
            "text/plain": [
              "[0.2633701264858246, 0.927299976348877]"
            ]
          },
          "metadata": {
            "tags": []
          },
          "execution_count": 15
        }
      ]
    },
    {
      "cell_type": "markdown",
      "metadata": {
        "id": "aydkKkYmQYla"
      },
      "source": [
        "Now predicting the result"
      ]
    },
    {
      "cell_type": "code",
      "metadata": {
        "id": "wF32giqoPqLZ"
      },
      "source": [
        "predict = model.predict(X_test_flattened)"
      ],
      "execution_count": null,
      "outputs": []
    },
    {
      "cell_type": "markdown",
      "metadata": {
        "id": "N2lIkv4AQcQC"
      },
      "source": [
        "Output of the below cell will conatin 10 values, predicting the chances of the number being as first number. and by looking at the values we can clearly say that, that the number is 7 and prediction for that number is 9.99 percent."
      ]
    },
    {
      "cell_type": "code",
      "metadata": {
        "colab": {
          "base_uri": "https://localhost:8080/"
        },
        "id": "pq93uo5aP6uG",
        "outputId": "387694f7-894c-4e07-bcc2-45f7e03d9f1b"
      },
      "source": [
        "predict[0]"
      ],
      "execution_count": null,
      "outputs": [
        {
          "output_type": "execute_result",
          "data": {
            "text/plain": [
              "array([3.1408072e-03, 1.5478289e-08, 2.3098797e-02, 9.7330213e-01,\n",
              "       1.4747083e-03, 1.3605779e-01, 3.7522263e-08, 9.9983996e-01,\n",
              "       7.8672051e-02, 6.4675897e-01], dtype=float32)"
            ]
          },
          "metadata": {
            "tags": []
          },
          "execution_count": 17
        }
      ]
    },
    {
      "cell_type": "markdown",
      "metadata": {
        "id": "a0nkRC-WQ7nK"
      },
      "source": [
        "we are using argmax function from numpy library to get the bigger value of our prediction"
      ]
    },
    {
      "cell_type": "code",
      "metadata": {
        "colab": {
          "base_uri": "https://localhost:8080/"
        },
        "id": "kNqj9nf-P7_b",
        "outputId": "55ecdf96-dad6-45f2-f9fe-34fbd9926c16"
      },
      "source": [
        "np.argmax(predict[0])"
      ],
      "execution_count": null,
      "outputs": [
        {
          "output_type": "execute_result",
          "data": {
            "text/plain": [
              "7"
            ]
          },
          "metadata": {
            "tags": []
          },
          "execution_count": 18
        }
      ]
    },
    {
      "cell_type": "markdown",
      "metadata": {
        "id": "3cvPnL4zRHyI"
      },
      "source": [
        "we are just cross cheking if the value is is correct or not."
      ]
    },
    {
      "cell_type": "code",
      "metadata": {
        "colab": {
          "base_uri": "https://localhost:8080/"
        },
        "id": "IdS7uYNJQCD7",
        "outputId": "581b5003-39ce-493e-daeb-4583c466fd4e"
      },
      "source": [
        "y_test[0]"
      ],
      "execution_count": null,
      "outputs": [
        {
          "output_type": "execute_result",
          "data": {
            "text/plain": [
              "7"
            ]
          },
          "metadata": {
            "tags": []
          },
          "execution_count": 19
        }
      ]
    },
    {
      "cell_type": "markdown",
      "metadata": {
        "id": "ZlRAugHYRNuY"
      },
      "source": [
        "Now as you know y_test values are in the integer and predict values are in float and also there are 10 different values and we just want one so we will use for loop"
      ]
    },
    {
      "cell_type": "code",
      "metadata": {
        "id": "witQQqbpROl5",
        "colab": {
          "base_uri": "https://localhost:8080/"
        },
        "outputId": "a4c45591-9318-4a44-bebe-91109c691606"
      },
      "source": [
        "predicted_lables = [np.argmax(i) for i in predict]\n",
        "predicted_lables[:5]"
      ],
      "execution_count": null,
      "outputs": [
        {
          "output_type": "execute_result",
          "data": {
            "text/plain": [
              "[7, 2, 1, 0, 4]"
            ]
          },
          "metadata": {
            "tags": []
          },
          "execution_count": 20
        }
      ]
    },
    {
      "cell_type": "markdown",
      "metadata": {
        "id": "ZdysiF1EfJnb"
      },
      "source": [
        "now we will look into confusion matrix"
      ]
    },
    {
      "cell_type": "code",
      "metadata": {
        "colab": {
          "base_uri": "https://localhost:8080/"
        },
        "id": "0BmL1M9we8oB",
        "outputId": "c72698c1-c167-478a-e361-3ac56c2948d1"
      },
      "source": [
        "cm = tf.math.confusion_matrix(labels=y_test, predictions=predicted_lables)\n",
        "cm"
      ],
      "execution_count": null,
      "outputs": [
        {
          "output_type": "execute_result",
          "data": {
            "text/plain": [
              "<tf.Tensor: shape=(10, 10), dtype=int32, numpy=\n",
              "array([[ 951,    0,    2,    2,    0,    9,   10,    4,    2,    0],\n",
              "       [   0, 1114,    3,    2,    0,    1,    4,    2,    9,    0],\n",
              "       [   3,    8,  937,   17,    7,    4,   11,    8,   32,    5],\n",
              "       [   1,    0,   20,  920,    1,   25,    2,   10,   23,    8],\n",
              "       [   1,    1,    7,    1,  908,    0,    9,    4,    9,   42],\n",
              "       [   7,    2,    3,   40,    7,  778,   15,    6,   27,    7],\n",
              "       [   9,    3,    8,    1,    7,   13,  914,    1,    2,    0],\n",
              "       [   1,    6,   26,    6,    7,    1,    0,  945,    3,   33],\n",
              "       [   4,    9,    7,   22,    9,   23,    9,    9,  873,    9],\n",
              "       [   7,    7,    3,    9,   20,    6,    0,   16,    8,  933]],\n",
              "      dtype=int32)>"
            ]
          },
          "metadata": {
            "tags": []
          },
          "execution_count": 21
        }
      ]
    },
    {
      "cell_type": "markdown",
      "metadata": {
        "id": "VYHA5MEQfjL5"
      },
      "source": [
        "Above cell gives us the output but we want to visulize the output in pictorial format so we will use seaborn"
      ]
    },
    {
      "cell_type": "code",
      "metadata": {
        "colab": {
          "base_uri": "https://localhost:8080/",
          "height": 460
        },
        "id": "PwD9TCEYfZK8",
        "outputId": "247d6e90-e9fc-4109-f6f9-292f8e168cc1"
      },
      "source": [
        "import seaborn as sns\n",
        "plt.figure(figsize=(10, 7))\n",
        "sns.heatmap(cm, annot=True, fmt='d')\n",
        "plt.xlabel('predicted')\n",
        "plt.ylabel('Truth')"
      ],
      "execution_count": null,
      "outputs": [
        {
          "output_type": "execute_result",
          "data": {
            "text/plain": [
              "Text(69.0, 0.5, 'Truth')"
            ]
          },
          "metadata": {
            "tags": []
          },
          "execution_count": 22
        },
        {
          "output_type": "display_data",
          "data": {
            "image/png": "[encoded data removed]",
            "text/plain": [
              "<Figure size 720x504 with 2 Axes>"
            ]
          },
          "metadata": {
            "tags": [],
            "needs_background": "light"
          }
        }
      ]
    },
    {
      "cell_type": "markdown",
      "metadata": {
        "id": "PWJtr7M4sli6"
      },
      "source": [
        "#### Now we will be using Dense layer"
      ]
    },
    {
      "cell_type": "code",
      "metadata": {
        "colab": {
          "base_uri": "https://localhost:8080/"
        },
        "id": "CmsOEt52f-Zk",
        "outputId": "44ba50ca-b60f-4a3a-eda0-209fd379cda4"
      },
      "source": [
        "model = keras.Sequential([\n",
        "                          keras.layers.Dense(100,input_shape=(784, ), activation='relu'),\n",
        "                          keras.layers.Dense(10, activation='sigmoid')\n",
        "])\n",
        "\n",
        "model.compile(optimizer='adam', \n",
        "              loss = 'sparse_categorical_crossentropy',\n",
        "              metrics = ['accuracy'])\n",
        "model.fit(X_train_flattened, y_train, epochs = 5)"
      ],
      "execution_count": null,
      "outputs": [
        {
          "output_type": "stream",
          "text": [
            "Epoch 1/5\n",
            "1875/1875 [==============================] - 3s 2ms/step - loss: 0.4620 - accuracy: 0.8689\n",
            "Epoch 2/5\n",
            "1875/1875 [==============================] - 3s 2ms/step - loss: 0.1301 - accuracy: 0.9618\n",
            "Epoch 3/5\n",
            "1875/1875 [==============================] - 3s 2ms/step - loss: 0.0842 - accuracy: 0.9748\n",
            "Epoch 4/5\n",
            "1875/1875 [==============================] - 3s 2ms/step - loss: 0.0597 - accuracy: 0.9821\n",
            "Epoch 5/5\n",
            "1875/1875 [==============================] - 3s 2ms/step - loss: 0.0476 - accuracy: 0.9848\n"
          ],
          "name": "stdout"
        },
        {
          "output_type": "execute_result",
          "data": {
            "text/plain": [
              "<tensorflow.python.keras.callbacks.History at 0x7f1e52d68e10>"
            ]
          },
          "metadata": {
            "tags": []
          },
          "execution_count": 36
        }
      ]
    },
    {
      "cell_type": "markdown",
      "metadata": {
        "id": "DesQlHx0svpl"
      },
      "source": [
        "evaluating the dense layer"
      ]
    },
    {
      "cell_type": "code",
      "metadata": {
        "colab": {
          "base_uri": "https://localhost:8080/"
        },
        "id": "onHgEF6_rNNa",
        "outputId": "eb67a791-25d4-45cf-d917-2e1317757d8d"
      },
      "source": [
        "model.evaluate(X_test_flattened, y_test)"
      ],
      "execution_count": null,
      "outputs": [
        {
          "output_type": "stream",
          "text": [
            "313/313 [==============================] - 1s 2ms/step - loss: 0.0804 - accuracy: 0.9756\n"
          ],
          "name": "stdout"
        },
        {
          "output_type": "execute_result",
          "data": {
            "text/plain": [
              "[0.08044438064098358, 0.975600004196167]"
            ]
          },
          "metadata": {
            "tags": []
          },
          "execution_count": 29
        }
      ]
    },
    {
      "cell_type": "code",
      "metadata": {
        "id": "WgImCVKRsWOq"
      },
      "source": [
        "# prediction"
      ],
      "execution_count": null,
      "outputs": []
    },
    {
      "cell_type": "code",
      "metadata": {
        "colab": {
          "base_uri": "https://localhost:8080/",
          "height": 460
        },
        "id": "O4unG_5ms1UH",
        "outputId": "c1ef35d7-64e7-4e11-ad18-6dfeebca9dc5"
      },
      "source": [
        "import seaborn as sns\n",
        "plt.figure(figsize=(10, 7))\n",
        "sns.heatmap(cm, annot=True, fmt='d')\n",
        "plt.xlabel('predicted')\n",
        "plt.ylabel('Truth')"
      ],
      "execution_count": null,
      "outputs": [
        {
          "output_type": "execute_result",
          "data": {
            "text/plain": [
              "Text(69.0, 0.5, 'Truth')"
            ]
          },
          "metadata": {
            "tags": []
          },
          "execution_count": 37
        },
        {
          "output_type": "display_data",
          "data": {
            "image/png": "[encoded data removed]",
            "text/plain": [
              "<Figure size 720x504 with 2 Axes>"
            ]
          },
          "metadata": {
            "tags": [],
            "needs_background": "light"
          }
        }
      ]
    },
    {
      "cell_type": "markdown",
      "metadata": {
        "id": "BQ5pY0KCt4eP"
      },
      "source": [
        "Now previously we used faltten method to flatten our array but keras comes with flatten method"
      ]
    },
    {
      "cell_type": "code",
      "metadata": {
        "colab": {
          "base_uri": "https://localhost:8080/"
        },
        "id": "gvMl_8TBtq7s",
        "outputId": "adeb890e-095d-4ac3-a738-b0debc371276"
      },
      "source": [
        "model = keras.Sequential([\n",
        "                          keras.layers.Flatten(input_shape = (28, 28)),\n",
        "                          keras.layers.Dense(100, activation='relu'),\n",
        "                          keras.layers.Dense(10, activation='sigmoid')\n",
        "])\n",
        "\n",
        "model.compile(optimizer='adam', \n",
        "              loss = 'sparse_categorical_crossentropy',\n",
        "              metrics = ['accuracy'])\n",
        "model.fit(X_train, y_train, epochs = 5)"
      ],
      "execution_count": null,
      "outputs": [
        {
          "output_type": "stream",
          "text": [
            "Epoch 1/5\n",
            "1875/1875 [==============================] - 3s 2ms/step - loss: 0.4373 - accuracy: 0.8811\n",
            "Epoch 2/5\n",
            "1875/1875 [==============================] - 3s 2ms/step - loss: 0.1300 - accuracy: 0.9619\n",
            "Epoch 3/5\n",
            "1875/1875 [==============================] - 3s 2ms/step - loss: 0.0862 - accuracy: 0.9743\n",
            "Epoch 4/5\n",
            "1875/1875 [==============================] - 3s 2ms/step - loss: 0.0627 - accuracy: 0.9812\n",
            "Epoch 5/5\n",
            "1875/1875 [==============================] - 3s 2ms/step - loss: 0.0491 - accuracy: 0.9851\n"
          ],
          "name": "stdout"
        },
        {
          "output_type": "execute_result",
          "data": {
            "text/plain": [
              "<tensorflow.python.keras.callbacks.History at 0x7f1e5619bfd0>"
            ]
          },
          "metadata": {
            "tags": []
          },
          "execution_count": 38
        }
      ]
    },
    {
      "cell_type": "markdown",
      "metadata": {
        "id": "N0GT7sF6uaDX"
      },
      "source": [
        "## Home work\n",
        "\n",
        " is we have use different optimizers and different loss functions to so that we will refer tensorflow documents"
      ]
    },
    {
      "cell_type": "markdown",
      "metadata": {
        "id": "T30zBZ-pu8zK"
      },
      "source": [
        "1. KLD\n",
        " \n",
        " Loss function"
      ]
    },
    {
      "cell_type": "code",
      "metadata": {
        "colab": {
          "base_uri": "https://localhost:8080/"
        },
        "id": "dBM3x8V2uZFA",
        "outputId": "29eb04a4-b36c-4f6a-eddb-6cc06c9298b1"
      },
      "source": [
        "model = keras.Sequential([\n",
        "                          keras.layers.Dense(100,input_shape=(784, ), activation='relu'),\n",
        "                          keras.layers.Dense(10, activation='sigmoid')\n",
        "])\n",
        "\n",
        "model.compile(optimizer='adam', \n",
        "              loss = 'KLD',\n",
        "              metrics = ['accuracy'])\n",
        "model.fit(X_train_flattened, y_train, epochs = 5)"
      ],
      "execution_count": null,
      "outputs": [
        {
          "output_type": "stream",
          "text": [
            "Epoch 1/5\n",
            "1875/1875 [==============================] - 4s 2ms/step - loss: 0.1833 - accuracy: 0.1228\n",
            "Epoch 2/5\n",
            "1875/1875 [==============================] - 3s 2ms/step - loss: 7.0850e-06 - accuracy: 0.1169\n",
            "Epoch 3/5\n",
            "1875/1875 [==============================] - 3s 2ms/step - loss: 1.2049e-07 - accuracy: 0.1074\n",
            "Epoch 4/5\n",
            "1875/1875 [==============================] - 3s 2ms/step - loss: -9.8210e-07 - accuracy: 0.1026\n",
            "Epoch 5/5\n",
            "1875/1875 [==============================] - 3s 2ms/step - loss: -1.3671e-06 - accuracy: 0.1006\n"
          ],
          "name": "stdout"
        },
        {
          "output_type": "execute_result",
          "data": {
            "text/plain": [
              "<tensorflow.python.keras.callbacks.History at 0x7f1e5205cb90>"
            ]
          },
          "metadata": {
            "tags": []
          },
          "execution_count": 39
        }
      ]
    },
    {
      "cell_type": "markdown",
      "metadata": {
        "id": "jB-zak2rvKWQ"
      },
      "source": [
        "2. \n",
        "MAE"
      ]
    },
    {
      "cell_type": "code",
      "metadata": {
        "colab": {
          "base_uri": "https://localhost:8080/"
        },
        "id": "GEx_imYrvASQ",
        "outputId": "70176b39-2644-4cae-c400-8a88bfe75d35"
      },
      "source": [
        "model = keras.Sequential([\n",
        "                          keras.layers.Dense(100,input_shape=(784, ), activation='relu'),\n",
        "                          keras.layers.Dense(10, activation='sigmoid')\n",
        "])\n",
        "\n",
        "model.compile(optimizer='adam', \n",
        "              loss = 'MAE',\n",
        "              metrics = ['accuracy'])\n",
        "model.fit(X_train_flattened, y_train, epochs = 5)"
      ],
      "execution_count": null,
      "outputs": [
        {
          "output_type": "stream",
          "text": [
            "Epoch 1/5\n",
            "1875/1875 [==============================] - 3s 2ms/step - loss: 3.6743 - accuracy: 0.1502\n",
            "Epoch 2/5\n",
            "1875/1875 [==============================] - 3s 2ms/step - loss: 3.6420 - accuracy: 0.1429\n",
            "Epoch 3/5\n",
            "1875/1875 [==============================] - 3s 2ms/step - loss: 3.6476 - accuracy: 0.1190\n",
            "Epoch 4/5\n",
            "1875/1875 [==============================] - 3s 2ms/step - loss: 3.6470 - accuracy: 0.1110\n",
            "Epoch 5/5\n",
            "1875/1875 [==============================] - 3s 2ms/step - loss: 3.6351 - accuracy: 0.1061\n"
          ],
          "name": "stdout"
        },
        {
          "output_type": "execute_result",
          "data": {
            "text/plain": [
              "<tensorflow.python.keras.callbacks.History at 0x7f1e50eef950>"
            ]
          },
          "metadata": {
            "tags": []
          },
          "execution_count": 40
        }
      ]
    },
    {
      "cell_type": "markdown",
      "metadata": {
        "id": "LQ_WNKN1vPtN"
      },
      "source": [
        "3. binary_crossentropy"
      ]
    },
    {
      "cell_type": "markdown",
      "metadata": {
        "id": "1yY2p7k4vicU"
      },
      "source": [
        "4. hinge"
      ]
    },
    {
      "cell_type": "code",
      "metadata": {
        "colab": {
          "base_uri": "https://localhost:8080/"
        },
        "id": "2q1l9yXZvU4Z",
        "outputId": "4b728319-bb17-41fd-f3fe-d6b2b02543ba"
      },
      "source": [
        "model = keras.Sequential([\n",
        "                          keras.layers.Dense(100,input_shape=(784, ), activation='relu'),\n",
        "                          keras.layers.Dense(10, activation='sigmoid')\n",
        "])\n",
        "\n",
        "model.compile(optimizer='adam', \n",
        "              loss = 'hinge',\n",
        "              metrics = ['accuracy'])\n",
        "model.fit(X_train_flattened, y_train, epochs = 5)"
      ],
      "execution_count": null,
      "outputs": [
        {
          "output_type": "stream",
          "text": [
            "Epoch 1/5\n",
            "1875/1875 [==============================] - 4s 2ms/step - loss: 0.1000 - accuracy: 0.0739\n",
            "Epoch 2/5\n",
            "1875/1875 [==============================] - 3s 2ms/step - loss: 0.0979 - accuracy: 0.0998\n",
            "Epoch 3/5\n",
            "1875/1875 [==============================] - 3s 2ms/step - loss: 0.0984 - accuracy: 0.0998\n",
            "Epoch 4/5\n",
            "1875/1875 [==============================] - 3s 2ms/step - loss: 0.0983 - accuracy: 0.0995\n",
            "Epoch 5/5\n",
            "1875/1875 [==============================] - 3s 2ms/step - loss: 0.0988 - accuracy: 0.0993\n"
          ],
          "name": "stdout"
        },
        {
          "output_type": "execute_result",
          "data": {
            "text/plain": [
              "<tensorflow.python.keras.callbacks.History at 0x7f1e504ab790>"
            ]
          },
          "metadata": {
            "tags": []
          },
          "execution_count": 42
        }
      ]
    },
    {
      "cell_type": "markdown",
      "metadata": {
        "id": "N844o3WqvohZ"
      },
      "source": [
        "Now optimizers\n",
        "\n",
        "1. Adamax"
      ]
    },
    {
      "cell_type": "code",
      "metadata": {
        "colab": {
          "base_uri": "https://localhost:8080/"
        },
        "id": "fN2t-Pf0vni3",
        "outputId": "3a482d04-4f20-4fbc-9140-6aaae04bf2eb"
      },
      "source": [
        "model = keras.Sequential([\n",
        "                          keras.layers.Dense(100,input_shape=(784, ), activation='relu'),\n",
        "                          keras.layers.Dense(10, activation='sigmoid')\n",
        "])\n",
        "\n",
        "model.compile(optimizer='adamax', \n",
        "              loss = 'sparse_categorical_crossentropy',\n",
        "              metrics = ['accuracy'])\n",
        "model.fit(X_train_flattened, y_train, epochs = 5)"
      ],
      "execution_count": null,
      "outputs": [
        {
          "output_type": "stream",
          "text": [
            "Epoch 1/5\n",
            "1875/1875 [==============================] - 4s 2ms/step - loss: 0.6316 - accuracy: 0.8331\n",
            "Epoch 2/5\n",
            "1875/1875 [==============================] - 3s 2ms/step - loss: 0.2333 - accuracy: 0.9355\n",
            "Epoch 3/5\n",
            "1875/1875 [==============================] - 3s 2ms/step - loss: 0.1802 - accuracy: 0.9500\n",
            "Epoch 4/5\n",
            "1875/1875 [==============================] - 3s 2ms/step - loss: 0.1472 - accuracy: 0.9582\n",
            "Epoch 5/5\n",
            "1875/1875 [==============================] - 3s 2ms/step - loss: 0.1250 - accuracy: 0.9654\n"
          ],
          "name": "stdout"
        },
        {
          "output_type": "execute_result",
          "data": {
            "text/plain": [
              "<tensorflow.python.keras.callbacks.History at 0x7f1e4fbd2050>"
            ]
          },
          "metadata": {
            "tags": []
          },
          "execution_count": 43
        }
      ]
    },
    {
      "cell_type": "markdown",
      "metadata": {
        "id": "-WYzWgn4v7Pj"
      },
      "source": [
        "2. Adadelta"
      ]
    },
    {
      "cell_type": "code",
      "metadata": {
        "colab": {
          "base_uri": "https://localhost:8080/"
        },
        "id": "XKB1ZGuOv417",
        "outputId": "f371598b-abed-4486-dc31-5bd10e8728d1"
      },
      "source": [
        "model = keras.Sequential([\n",
        "                          keras.layers.Dense(100,input_shape=(784, ), activation='relu'),\n",
        "                          keras.layers.Dense(10, activation='sigmoid')\n",
        "])\n",
        "\n",
        "model.compile(optimizer='adadelta', \n",
        "              loss = 'sparse_categorical_crossentropy',\n",
        "              metrics = ['accuracy'])\n",
        "model.fit(X_train_flattened, y_train, epochs = 5)"
      ],
      "execution_count": null,
      "outputs": [
        {
          "output_type": "stream",
          "text": [
            "Epoch 1/5\n",
            "1875/1875 [==============================] - 4s 2ms/step - loss: 2.3093 - accuracy: 0.1247\n",
            "Epoch 2/5\n",
            "1875/1875 [==============================] - 3s 2ms/step - loss: 2.1567 - accuracy: 0.2347\n",
            "Epoch 3/5\n",
            "1875/1875 [==============================] - 3s 2ms/step - loss: 2.0207 - accuracy: 0.3508\n",
            "Epoch 4/5\n",
            "1875/1875 [==============================] - 3s 2ms/step - loss: 1.8919 - accuracy: 0.4667\n",
            "Epoch 5/5\n",
            "1875/1875 [==============================] - 3s 2ms/step - loss: 1.7706 - accuracy: 0.5725\n"
          ],
          "name": "stdout"
        },
        {
          "output_type": "execute_result",
          "data": {
            "text/plain": [
              "<tensorflow.python.keras.callbacks.History at 0x7f1e4faca610>"
            ]
          },
          "metadata": {
            "tags": []
          },
          "execution_count": 44
        }
      ]
    },
    {
      "cell_type": "markdown",
      "metadata": {
        "id": "r2i-q3ujwCCH"
      },
      "source": [
        "3. ftrl"
      ]
    },
    {
      "cell_type": "code",
      "metadata": {
        "colab": {
          "base_uri": "https://localhost:8080/"
        },
        "id": "fnEwl2Itv-3O",
        "outputId": "b7506798-2bb1-4517-d4da-2b8ba50236a3"
      },
      "source": [
        "model = keras.Sequential([\n",
        "                          keras.layers.Dense(100,input_shape=(784, ), activation='relu'),\n",
        "                          keras.layers.Dense(10, activation='sigmoid')\n",
        "])\n",
        "\n",
        "model.compile(optimizer='FTRL', \n",
        "              loss = 'sparse_categorical_crossentropy',\n",
        "              metrics = ['accuracy'])\n",
        "model.fit(X_train_flattened, y_train, epochs = 5)"
      ],
      "execution_count": null,
      "outputs": [
        {
          "output_type": "stream",
          "text": [
            "Epoch 1/5\n",
            "1875/1875 [==============================] - 4s 2ms/step - loss: 2.3025 - accuracy: 0.1113\n",
            "Epoch 2/5\n",
            "1875/1875 [==============================] - 4s 2ms/step - loss: 2.2888 - accuracy: 0.2232\n",
            "Epoch 3/5\n",
            "1875/1875 [==============================] - 4s 2ms/step - loss: 2.0658 - accuracy: 0.3934\n",
            "Epoch 4/5\n",
            "1875/1875 [==============================] - 4s 2ms/step - loss: 1.5406 - accuracy: 0.5779\n",
            "Epoch 5/5\n",
            "1875/1875 [==============================] - 4s 2ms/step - loss: 1.1817 - accuracy: 0.6773\n"
          ],
          "name": "stdout"
        },
        {
          "output_type": "execute_result",
          "data": {
            "text/plain": [
              "<tensorflow.python.keras.callbacks.History at 0x7f1e4e9beb90>"
            ]
          },
          "metadata": {
            "tags": []
          },
          "execution_count": 45
        }
      ]
    },
    {
      "cell_type": "code",
      "metadata": {
        "id": "ZcYbg3BZwFQ9"
      },
      "source": [
        ""
      ],
      "execution_count": null,
      "outputs": []
    }
  ]
}